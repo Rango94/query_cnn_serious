{
 "cells": [
  {
   "cell_type": "code",
   "execution_count": 1,
   "metadata": {},
   "outputs": [],
   "source": [
    "from data_helper import data_helper\n",
    "import numpy as np"
   ]
  },
  {
   "cell_type": "code",
   "execution_count": 2,
   "metadata": {},
   "outputs": [
    {
     "name": "stdout",
     "output_type": "stream",
     "text": [
      "['../data/data/querys_test_cate_0.npy', '../data/data/querys_test_feature_0.npy']\n",
      "['../data/data/querys_train_cate_0.npy', '../data/data/querys_train_cate_1.npy', '../data/data/querys_train_cate_10.npy', '../data/data/querys_train_cate_11.npy', '../data/data/querys_train_cate_12.npy', '../data/data/querys_train_cate_2.npy', '../data/data/querys_train_cate_3.npy', '../data/data/querys_train_cate_4.npy', '../data/data/querys_train_cate_5.npy', '../data/data/querys_train_cate_6.npy', '../data/data/querys_train_cate_7.npy', '../data/data/querys_train_cate_8.npy', '../data/data/querys_train_cate_9.npy', '../data/data/querys_train_feature_0.npy', '../data/data/querys_train_feature_1.npy', '../data/data/querys_train_feature_10.npy', '../data/data/querys_train_feature_11.npy', '../data/data/querys_train_feature_12.npy', '../data/data/querys_train_feature_2.npy', '../data/data/querys_train_feature_3.npy', '../data/data/querys_train_feature_4.npy', '../data/data/querys_train_feature_5.npy', '../data/data/querys_train_feature_6.npy', '../data/data/querys_train_feature_7.npy', '../data/data/querys_train_feature_8.npy', '../data/data/querys_train_feature_9.npy']\n"
     ]
    }
   ],
   "source": [
    "dh_train=data_helper()"
   ]
  },
  {
   "cell_type": "code",
   "execution_count": 5,
   "metadata": {},
   "outputs": [],
   "source": [
    "dh_train.set_batch_size(100)"
   ]
  },
  {
   "cell_type": "code",
   "execution_count": 6,
   "metadata": {},
   "outputs": [
    {
     "name": "stdout",
     "output_type": "stream",
     "text": [
      "1 470 (1,) (1,)\n",
      "1 570 (100, 12, 3665) (100, 21)\n",
      "1 670 (100, 12, 3665) (100, 21)\n",
      "1 770 (100, 12, 3665) (100, 21)\n",
      "1 870 (100, 12, 3665) (100, 21)\n",
      "1 970 (100, 12, 3665) (100, 21)\n",
      "1 1070 (100, 12, 3665) (100, 21)\n",
      "1 1170 (100, 12, 3665) (100, 21)\n",
      "1 1270 (100, 12, 3665) (100, 21)\n",
      "1 1370 (100, 12, 3665) (100, 21)\n",
      "1 1470 (100, 12, 3665) (100, 21)\n",
      "1 1570 (100, 12, 3665) (100, 21)\n",
      "1 1670 (100, 12, 3665) (100, 21)\n",
      "1 1770 (100, 12, 3665) (100, 21)\n",
      "1 1870 (100, 12, 3665) (100, 21)\n",
      "1 1970 (100, 12, 3665) (100, 21)\n",
      "1 2070 (100, 12, 3665) (100, 21)\n",
      "1 2170 (100, 12, 3665) (100, 21)\n",
      "1 2270 (100, 12, 3665) (100, 21)\n",
      "1 2370 (100, 12, 3665) (100, 21)\n"
     ]
    }
   ],
   "source": [
    "a1=np.zeros(1)\n",
    "a2=np.zeros(1)\n",
    "for i in range(20):\n",
    "    print(dh_train.now_file_num,dh_train.now_batch_num,a1.shape,a2.shape)\n",
    "    a1,a2=dh_train.next_batch()"
   ]
  },
  {
   "cell_type": "code",
   "execution_count": null,
   "metadata": {},
   "outputs": [],
   "source": []
  }
 ],
 "metadata": {
  "kernelspec": {
   "display_name": "Python 3",
   "language": "python",
   "name": "python3"
  },
  "language_info": {
   "codemirror_mode": {
    "name": "ipython",
    "version": 3
   },
   "file_extension": ".py",
   "mimetype": "text/x-python",
   "name": "python",
   "nbconvert_exporter": "python",
   "pygments_lexer": "ipython3",
   "version": "3.6.4"
  }
 },
 "nbformat": 4,
 "nbformat_minor": 2
}
